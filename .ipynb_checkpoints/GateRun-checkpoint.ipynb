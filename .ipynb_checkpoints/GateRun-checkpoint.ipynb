{
 "cells": [
  {
   "cell_type": "markdown",
   "metadata": {},
   "source": [
    "# Simulation Control Notebook"
   ]
  },
  {
   "cell_type": "markdown",
   "metadata": {},
   "source": [
    "This notebook will handle all of the scripting that would typically be done in bash but I decided to try in python to keep in with the primary theme\n",
    "This should also help a TON with the math and such since bash doesn't do decimal arithmetic by itself."
   ]
  },
  {
   "cell_type": "markdown",
   "metadata": {},
   "source": [
    "## Bar Dimensions\n",
    "\n",
    "|X mm|Y mm|Z mm|\n",
    "|---|---|---|\n",
    "|4.8|80|10|"
   ]
  },
  {
   "cell_type": "code",
   "execution_count": 1,
   "metadata": {},
   "outputs": [],
   "source": [
    "import numpy as np, os\n",
    "from subprocess import call\n",
    "from datetime import datetime"
   ]
  },
  {
   "cell_type": "markdown",
   "metadata": {},
   "source": [
    "## Actual Simulation Portion"
   ]
  },
  {
   "cell_type": "markdown",
   "metadata": {},
   "source": [
    "The beam dimensions are being varied by steps of 5 for both the height and width. Since we want every width to have every height nested for loops were used. Inside the loops a function from the module sys is being utilized, `sys.call`. `sys.call` allows a command from the terminal Ex. `ls`, `cd`, `sed`, and `grep` to be issued in another process. This allows me to use the math and logic of Python to cleanly impliment the looping then use the terminal's `sed` command to change a pattern of text in the run.mac file to what I need it to be.\n",
    "\n"
   ]
  },
  {
   "cell_type": "code",
   "execution_count": null,
   "metadata": {},
   "outputs": [],
   "source": [
    "for energy in range(2, 11, 2):\n",
    "    for width in range(5, 51, 5):\n",
    "        for height in range(5, 51, 5):\n",
    "            for angle in range(0, 360, 15):\n",
    "                with open('data/log.txt', 'a') as file:\n",
    "                    print(f'I am on angle {angle} with width {width} and height of {height} at {str(datetime.now())}', file=file)\n",
    "\n",
    "                # Changes the dimensions and alignments of detector and beam\n",
    "                call(f'sed -i \"s:/gate/source/mybeam/gps/pos/halfx.*:/gate/source/mybeam/gps/pos/halfx {width/2:.2f} mm:\" mac/run.mac', shell=True)\n",
    "                call(f'sed -i \"s:/gate/source/mybeam/gps/pos/halfy.*:/gate/source/mybeam/gps/pos/halfy {height/2:.2f} mm:\" mac/run.mac', shell=True)\n",
    "                call(f'sed -i \"s:/gate/cluster/placement/setRotationAngle.*:/gate/cluster/placement/setRotationAngle {angle} deg:\" mac/run.mac', shell=True)\n",
    "                call(f'sed -i \"s:/gate/source/mybeam/gps/ene/mono.*:/gate/source/mybeam/gps/ene/mono {energy} MeV:\" mac/run.mac', shell=True)\n",
    "                \n",
    "                # mades a zero padded string version of the dimensions\n",
    "                pad_width = str(width).zfill(2)\n",
    "                pad_height = str(height).zfill(2)\n",
    "                pad_angle = str(angle).zfill(3)\n",
    "                pad_energy = str(energy).zfill(2)\n",
    "\n",
    "                # edits the root name of the output file to represent the correct width height and angle\n",
    "                call(f'sed -i \"s:/gate/output/ascii/setFileName output/.*:/gate/output/ascii/setFileName output/E{pad_energy}__W{pad_width}__H{pad_height}__A{pad_angle}_bars_:\" mac/run.mac', shell=True)\n",
    "                call('Gate mac/run.mac', shell=True)"
   ]
  },
  {
   "cell_type": "markdown",
   "metadata": {},
   "source": [
    "### Sed\n",
    "`sed` is a tool developed for text manipulation of files. It is **extremely** fast and light weight. It is also a product of the early days of computing so following with sterotypes it is 'clunky and fragile' to use. I will walk you through what is going on.\n",
    "\n",
    "- First:\n",
    "`sed` stands for \"stream editor\" which makes sense since all it does is edit sequences of text in streams. `sed -i` tells `sed` to do its thing **Inline**. Normally it would \"open\" the file to memory, do its edits on the file in memory then print it out to standard out or the user would redirect the printing to another file. This is useful but not what we want, we want the file to be edited right then and there.\n",
    "\n",
    "- Second\n",
    "`s:` stands for substitution, `sed` matches patterns of text based on **regular expressions**. The pattern following `:` is the pattern being looked for, the `.*` matches any amount of any character its a super wild card. The stuff following the second `:` is what the first pattern will be replaced or substituted with.\n",
    "- This is where Python makes this easy, I'm using an fstring to create a string and put the value of the variable width divided by 2 and with 2 decimals in the location it appears in the string. I get easy formatting and string manipulation unlike bash\n",
    "The final `:` denotes the end of the `sed` comand and the `\"` maks the end of the pattern stuff to the command. The patterns must be passed to `sed` as strings which is why I am using `\"`.\n",
    "\n",
    "- Third\n",
    "The last part of the string `mac/run.mac` is the file being changed by `sed`"
   ]
  },
  {
   "cell_type": "code",
   "execution_count": null,
   "metadata": {},
   "outputs": [],
   "source": []
  }
 ],
 "metadata": {
  "kernelspec": {
   "display_name": "Python [conda env:.conda-james]",
   "language": "python",
   "name": "conda-env-.conda-james-py"
  },
  "language_info": {
   "codemirror_mode": {
    "name": "ipython",
    "version": 3
   },
   "file_extension": ".py",
   "mimetype": "text/x-python",
   "name": "python",
   "nbconvert_exporter": "python",
   "pygments_lexer": "ipython3",
   "version": "3.7.3"
  }
 },
 "nbformat": 4,
 "nbformat_minor": 4
}
