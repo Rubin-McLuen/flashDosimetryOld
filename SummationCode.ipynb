{
 "cells": [
  {
   "cell_type": "code",
   "execution_count": 1,
   "id": "fe6bd887-6c3c-4bd7-aad3-495402544023",
   "metadata": {},
   "outputs": [],
   "source": [
    "import os"
   ]
  },
  {
   "cell_type": "code",
   "execution_count": 2,
   "id": "b28dbef4-c782-45b2-9933-92d01dcf19d3",
   "metadata": {},
   "outputs": [],
   "source": [
    "folder_path = \"/home/jupyter-rubin/flashDosimetry/NewRunOutputs/output4\"\n",
    "os.mkdir(folder_path+\"/summation\")"
   ]
  },
  {
   "cell_type": "code",
   "execution_count": 3,
   "id": "295dd6d8-46b6-4b1a-951e-affabd63dbd2",
   "metadata": {},
   "outputs": [],
   "source": [
    "def particle_count_sum(file_path):\n",
    "    with open(file_path, \"r\") as file_1:\n",
    "        remove_header_1 = file_1.readlines()[6:]\n",
    "        list_of_nums_1 = \"\".join(remove_header_1).split()\n",
    "        data_1 = [int(i) for i in list_of_nums_1]\n",
    "        sum_1 = sum(data_1)\n",
    "        \n",
    "    total = sum_1\n",
    "    return total"
   ]
  },
  {
   "cell_type": "code",
   "execution_count": null,
   "id": "6aace8dd-49b3-49f9-9484-11bc97110f6c",
   "metadata": {},
   "outputs": [],
   "source": []
  },
  {
   "cell_type": "code",
   "execution_count": 4,
   "id": "c361bdea-6b23-4e91-839d-61d97d172ebd",
   "metadata": {},
   "outputs": [],
   "source": [
    "def edep_dose_sum(file_path):\n",
    "    with open(file_path, \"r\") as file:\n",
    "        remove_header = file.readlines()[6:]\n",
    "        list_of_nums = \"\".join(remove_header).split()\n",
    "        data = [float(i) for i in list_of_nums]\n",
    "        total = sum(data)\n",
    "    \n",
    "    return total"
   ]
  },
  {
   "cell_type": "code",
   "execution_count": null,
   "id": "1ae1f7d6-f061-4b04-bd50-495e73bf041b",
   "metadata": {},
   "outputs": [],
   "source": []
  },
  {
   "cell_type": "code",
   "execution_count": 5,
   "id": "88fa77e1-c881-4c29-bb77-c01bdbb1a2ce",
   "metadata": {},
   "outputs": [],
   "source": [
    "def total_sums(folder_path, energy_levels):\n",
    "    total_particles = [0] * energy_levels\n",
    "    total_edep = [0] * energy_levels\n",
    "        \n",
    "    for file in os.listdir(folder_path):\n",
    "        if \"particle_counter\" in file:\n",
    "            total_particles[int(file[5:7])-1] += particle_count_sum(folder_path+\"/\"+file)\n",
    "        if \"edep-Edep\" in file:\n",
    "            total_edep[int(file[5:7])-1] += edep_dose_sum(folder_path+\"/\"+file)\n",
    "    \n",
    "    os.chdir(folder_path + \"/summation\")\n",
    "    file = open(\"summation.txt\", \"a\")\n",
    "    \n",
    "    for i in range(energy_levels):\n",
    "        print(total_particles[i],total_edep[i])\n",
    "        file.write(str(total_particles[i]) + '\\t' + str(total_edep[i]) + '\\n')\n",
    "        \n",
    "    file.close()"
   ]
  },
  {
   "cell_type": "code",
   "execution_count": 6,
   "id": "2e6acbde-ef7b-47da-997c-b0aeeb839ec2",
   "metadata": {},
   "outputs": [
    {
     "name": "stdout",
     "output_type": "stream",
     "text": [
      "368 28.810562672949988\n",
      "742 56.180502542430055\n",
      "1459 81.76386265951996\n",
      "1759 115.31672610675\n",
      "2077 142.60134550361005\n",
      "2399 175.02967018516003\n",
      "2781 206.79644793344036\n",
      "3586 234.20188753402016\n",
      "3949 263.9672675680701\n",
      "0 0\n",
      "0 0\n",
      "0 0\n",
      "0 0\n",
      "0 0\n",
      "0 0\n",
      "0 0\n",
      "0 0\n",
      "0 0\n",
      "0 0\n",
      "0 0\n",
      "0 0\n",
      "0 0\n",
      "0 0\n",
      "0 0\n",
      "0 0\n",
      "0 0\n",
      "0 0\n",
      "0 0\n",
      "0 0\n",
      "0 0\n",
      "0 0\n",
      "0 0\n",
      "0 0\n",
      "0 0\n",
      "0 0\n",
      "0 0\n",
      "0 0\n",
      "0 0\n",
      "0 0\n",
      "0 0\n",
      "0 0\n",
      "0 0\n",
      "0 0\n",
      "0 0\n",
      "0 0\n",
      "0 0\n",
      "0 0\n",
      "0 0\n",
      "0 0\n",
      "0 0\n",
      "0 0\n",
      "0 0\n",
      "0 0\n",
      "0 0\n",
      "0 0\n",
      "0 0\n",
      "0 0\n",
      "0 0\n",
      "0 0\n",
      "0 0\n",
      "0 0\n",
      "0 0\n",
      "0 0\n",
      "0 0\n",
      "0 0\n",
      "0 0\n",
      "0 0\n",
      "0 0\n",
      "0 0\n",
      "0 0\n",
      "0 0\n",
      "0 0\n",
      "0 0\n",
      "0 0\n",
      "0 0\n",
      "0 0\n",
      "0 0\n",
      "0 0\n",
      "0 0\n",
      "0 0\n",
      "0 0\n"
     ]
    }
   ],
   "source": [
    "total_sums(folder_path, 81)"
   ]
  },
  {
   "cell_type": "code",
   "execution_count": null,
   "id": "072065fb-5ae1-4748-93b6-8b4eb5b78f15",
   "metadata": {},
   "outputs": [],
   "source": []
  },
  {
   "cell_type": "code",
   "execution_count": null,
   "id": "b39c1530-a499-4c1a-b0de-300df275c533",
   "metadata": {},
   "outputs": [],
   "source": [
    "\n"
   ]
  },
  {
   "cell_type": "code",
   "execution_count": null,
   "id": "38494c27-726b-4c5f-b6d2-39c2c4ec95aa",
   "metadata": {},
   "outputs": [],
   "source": []
  },
  {
   "cell_type": "code",
   "execution_count": null,
   "id": "0765917c-80de-4d18-aba9-93acb3812dcc",
   "metadata": {},
   "outputs": [],
   "source": []
  },
  {
   "cell_type": "code",
   "execution_count": null,
   "id": "793e35ad-fff6-4258-9ac1-5aa4781fb3fb",
   "metadata": {},
   "outputs": [],
   "source": []
  },
  {
   "cell_type": "code",
   "execution_count": null,
   "id": "e73621e7-ad7d-4680-8491-92475dacff80",
   "metadata": {},
   "outputs": [],
   "source": []
  }
 ],
 "metadata": {
  "kernelspec": {
   "display_name": "Python 3",
   "language": "python",
   "name": "python3"
  },
  "language_info": {
   "codemirror_mode": {
    "name": "ipython",
    "version": 3
   },
   "file_extension": ".py",
   "mimetype": "text/x-python",
   "name": "python",
   "nbconvert_exporter": "python",
   "pygments_lexer": "ipython3",
   "version": "3.7.3"
  }
 },
 "nbformat": 4,
 "nbformat_minor": 5
}
