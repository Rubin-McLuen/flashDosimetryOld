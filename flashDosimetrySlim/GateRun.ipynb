{
 "cells": [
  {
   "cell_type": "markdown",
   "metadata": {},
   "source": [
    "# Simulation Control Notebook"
   ]
  },
  {
   "cell_type": "markdown",
   "metadata": {},
   "source": [
    "This notebook will handle all of the scripting that would typically be done in bash but I decided to try in python to keep in with the primary theme\n",
    "This should also help a TON with the math and such since bash doesn't do decimal arithmetic by itself."
   ]
  },
  {
   "cell_type": "markdown",
   "metadata": {},
   "source": [
    "## Bar Dimensions\n",
    "\n",
    "|X mm|Y mm|Z mm|\n",
    "|---|---|---|\n",
    "|4.8|80|10|"
   ]
  },
  {
   "cell_type": "code",
   "execution_count": 1,
   "metadata": {},
   "outputs": [],
   "source": [
    "import os\n",
    "import numpy as np\n",
    "import time\n",
    "from subprocess import call\n",
    "from datetime import datetime"
   ]
  },
  {
   "cell_type": "markdown",
   "metadata": {},
   "source": [
    "## Actual Simulation Portion"
   ]
  },
  {
   "cell_type": "markdown",
   "metadata": {},
   "source": []
  },
  {
   "cell_type": "code",
   "execution_count": 2,
   "metadata": {},
   "outputs": [],
   "source": [
    "directory_length = len(os.listdir(\"NewRunOutputs\"))"
   ]
  },
  {
   "cell_type": "code",
   "execution_count": 3,
   "metadata": {},
   "outputs": [],
   "source": [
    "directory = \"NewRunOutputs/output\"+str(directory_length)"
   ]
  },
  {
   "cell_type": "code",
   "execution_count": 4,
   "metadata": {},
   "outputs": [],
   "source": [
    "os.mkdir(directory)"
   ]
  },
  {
   "cell_type": "code",
   "execution_count": 5,
   "metadata": {},
   "outputs": [],
   "source": [
    "os.chdir(\"/home/jupyter-rubin/flashDosimetrySlim\")"
   ]
  },
  {
   "cell_type": "code",
   "execution_count": 6,
   "metadata": {},
   "outputs": [
    {
     "name": "stdout",
     "output_type": "stream",
     "text": [
      "80.29027581214905\n"
     ]
    }
   ],
   "source": [
    "start = time.time()\n",
    "min_energy = 1\n",
    "max_energy = 3\n",
    "for height in range(3, 4, 1):   \n",
    "    for energy in range(min_energy, max_energy, 1):\n",
    "        # Changes the dimensions and alignments of detector and beam\n",
    "        call(f'sed -i \"s:/gate/sourceBlock/placement/setTranslation.*:/gate/sourceBlock/placement/setTranslation         0 {height} 0 cm:\" GDet_PPSc_v1_0.mac', shell=True)\n",
    "        call(f'sed -i \"s:/gate/application/setTotalNumberOfPrimaries.*:/gate/application/setTotalNumberOfPrimaries {10**energy}:\" GDet_PPSc_v1_0.mac', shell=True)\n",
    "        # mades a zero padded string version of the dimensions\n",
    "        pad_height = str(height).zfill(2)\n",
    "        pad_energy = str(energy).zfill(2)\n",
    "        \n",
    "        # edits the root name of the output file to represent the correct width height and angle\n",
    "        call(f'sed -i \"s:/gate/actor/initEdep/save .*:/gate/actor/initEdep/save  {directory}/h{pad_height}_e{pad_energy}_edep.txt:\" GDet_PPSc_v1_0.mac', shell=True)\n",
    "        call(f'sed -i \"s:/gate/actor/ParticleCounter2/save .*:/gate/actor/ParticleCounter2/save  {directory}/h{pad_height}_e{pad_energy}_particle_counter_2.txt:\" GDet_PPSc_v1_0.mac', shell=True)\n",
    "        call(f'sed -i \"s:/gate/actor/ParticleCounter1/save .*:/gate/actor/ParticleCounter1/save  {directory}/h{pad_height}_e{pad_energy}_particle_counter_1.txt:\" GDet_PPSc_v1_0.mac', shell=True)\n",
    "        call('Gate GDet_PPSc_v1_0.mac', shell=True)\n",
    "end = time.time()\n",
    "print(end - start)"
   ]
  },
  {
   "cell_type": "markdown",
   "metadata": {},
   "source": [
    "### Sed\n",
    "`sed` is a tool developed for text manipulation of files. It is **extremely** fast and light weight. It is also a product of the early days of computing so following with sterotypes it is 'clunky and fragile' to use. I will walk you through what is going on.\n",
    "\n",
    "- First:\n",
    "`sed` stands for \"stream editor\" which makes sense since all it does is edit sequences of text in streams. `sed -i` tells `sed` to do its thing **Inline**. Normally it would \"open\" the file to memory, do its edits on the file in memory then print it out to standard out or the user would redirect the printing to another file. This is useful but not what we want, we want the file to be edited right then and there.\n",
    "\n",
    "- Second\n",
    "`s:` stands for substitution, `sed` matches patterns of text based on **regular expressions**. The pattern following `:` is the pattern being looked for, the `.*` matches any amount of any character its a super wild card. The stuff following the second `:` is what the first pattern will be replaced or substituted with.\n",
    "- This is where Python makes this easy, I'm using an fstring to create a string and put the value of the variable width divided by 2 and with 2 decimals in the location it appears in the string. I get easy formatting and string manipulation unlike bash\n",
    "The final `:` denotes the end of the `sed` comand and the `\"` maks the end of the pattern stuff to the command. The patterns must be passed to `sed` as strings which is why I am using `\"`.\n",
    "\n",
    "- Third\n",
    "The last part of the string `mac/run.mac` is the file being changed by `sed`"
   ]
  },
  {
   "cell_type": "code",
   "execution_count": null,
   "metadata": {},
   "outputs": [],
   "source": []
  }
 ],
 "metadata": {
  "kernelspec": {
   "display_name": "Python [conda env:.conda-rubinGate]",
   "language": "python",
   "name": "conda-env-.conda-rubinGate-py"
  },
  "language_info": {
   "codemirror_mode": {
    "name": "ipython",
    "version": 3
   },
   "file_extension": ".py",
   "mimetype": "text/x-python",
   "name": "python",
   "nbconvert_exporter": "python",
   "pygments_lexer": "ipython3",
   "version": "3.7.3"
  }
 },
 "nbformat": 4,
 "nbformat_minor": 4
}
