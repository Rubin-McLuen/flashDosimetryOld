{
 "cells": [
  {
   "cell_type": "code",
   "execution_count": 1,
   "id": "9d34f753-1e42-4e28-8570-57f2d639e4cb",
   "metadata": {},
   "outputs": [],
   "source": [
    "energy = 100000"
   ]
  },
  {
   "cell_type": "code",
   "execution_count": 2,
   "id": "56a89e11-4e71-4ebd-b137-c50a5570ff01",
   "metadata": {},
   "outputs": [],
   "source": [
    "pad_energy = str(energy).zfill(2)"
   ]
  },
  {
   "cell_type": "code",
   "execution_count": 13,
   "id": "d26a9a13-c264-43f2-8e51-e1a6d11a63f5",
   "metadata": {},
   "outputs": [
    {
     "name": "stdout",
     "output_type": "stream",
     "text": [
      "1.00e+05\n"
     ]
    }
   ],
   "source": [
    "print(pad_energy)"
   ]
  },
  {
   "cell_type": "code",
   "execution_count": 12,
   "id": "967dbccb-a42e-444f-ac7a-5feeccf3a5f9",
   "metadata": {},
   "outputs": [],
   "source": [
    "pad_energy = \"{:.2e}\".format(int(pad_energy))"
   ]
  },
  {
   "cell_type": "code",
   "execution_count": 11,
   "id": "93325b0f-f25d-4cd5-a3b5-525ce2b517c3",
   "metadata": {},
   "outputs": [
    {
     "name": "stdout",
     "output_type": "stream",
     "text": [
      "1.00e+05\n"
     ]
    }
   ],
   "source": [
    "print(scientific_notation)"
   ]
  },
  {
   "cell_type": "code",
   "execution_count": 37,
   "id": "79595177-a378-4c7f-b45f-a01d54b961da",
   "metadata": {},
   "outputs": [
    {
     "name": "stdout",
     "output_type": "stream",
     "text": [
      "10\n",
      "100\n",
      "1000\n",
      "10000\n",
      "100000\n",
      "1000000\n",
      "10000000\n",
      "100000000\n",
      "1000000000\n"
     ]
    }
   ],
   "source": [
    "min_energy = 1\n",
    "max_energy = 10\n",
    "for i in range(min_energy, max_energy, 1):\n",
    "    print(10**i)"
   ]
  },
  {
   "cell_type": "code",
   "execution_count": null,
   "id": "d865e01b-9d9c-46e0-9543-c05e9f5fe793",
   "metadata": {},
   "outputs": [],
   "source": []
  }
 ],
 "metadata": {
  "kernelspec": {
   "display_name": "Python 3",
   "language": "python",
   "name": "python3"
  },
  "language_info": {
   "codemirror_mode": {
    "name": "ipython",
    "version": 3
   },
   "file_extension": ".py",
   "mimetype": "text/x-python",
   "name": "python",
   "nbconvert_exporter": "python",
   "pygments_lexer": "ipython3",
   "version": "3.7.3"
  }
 },
 "nbformat": 4,
 "nbformat_minor": 5
}
